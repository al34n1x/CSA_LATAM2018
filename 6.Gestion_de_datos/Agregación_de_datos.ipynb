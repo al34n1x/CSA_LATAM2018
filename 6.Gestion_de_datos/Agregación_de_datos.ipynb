{
  "nbformat": 4,
  "nbformat_minor": 0,
  "metadata": {
    "colab": {
      "name": "Agregación de datos.ipynb",
      "provenance": [],
      "collapsed_sections": [],
      "authorship_tag": "ABX9TyO8xyRZqIl6hSMBtfEERKnI",
      "include_colab_link": true
    },
    "kernelspec": {
      "name": "python3",
      "display_name": "Python 3"
    }
  },
  "cells": [
    {
      "cell_type": "markdown",
      "metadata": {
        "id": "view-in-github",
        "colab_type": "text"
      },
      "source": [
        "<a href=\"https://colab.research.google.com/github/al34n1x/CSA_LATAM2018/blob/master/6.Gestion_de_datos/Agregaci%C3%B3n_de_datos.ipynb\" target=\"_parent\"><img src=\"https://colab.research.google.com/assets/colab-badge.svg\" alt=\"Open In Colab\"/></a>"
      ]
    },
    {
      "cell_type": "markdown",
      "metadata": {
        "id": "BFynk27lvXm6",
        "colab_type": "text"
      },
      "source": [
        "# Agregación de datos y operaciones de grupo\n",
        "\n",
        "La categorización de un conjunto de datos y la aplicación de una función a cada grupo, ya sea una agregación o transformación, es un componente crítico del trabajo de análisis de datos. Después de cargar, fusionar y preparar un conjunto de datos, es posible que debas calcular estadísticas de grupo o posiblemente tablas dinámicas para fines de informes o visualización. Pandas proporciona una interfaz de grupo flexible, que te permite cortar, cortar en dados y resumir conjuntos de datos de forma natural.\n",
        "\n",
        "Como verás, con la expresividad de Python y pandas, podemos realizar operaciones grupales bastante complejas utilizando cualquier función que acepte un objeto pandas o una matriz NumPy. "
      ]
    },
    {
      "cell_type": "markdown",
      "metadata": {
        "id": "EMGwZJuAv306",
        "colab_type": "text"
      },
      "source": [
        "## Actividades que veremos en este apartado\n",
        "\n",
        "* Dividir un objeto pandas en pedazos usando una o más claves (en forma de funciones, matrices o nombres de columna de DataFrame)\n",
        "\n",
        "* Calcular estadísticas de resumen de grupo, como conteo, media o desviación estándar, o una función definida por el usuario\n",
        "\n",
        "* Aplique transformaciones dentro del grupo u otras manipulaciones, como normalización, regresión lineal, clasificación o selección de subconjuntos\n",
        "\n",
        "* Calcular tablas dinámicas y tabulaciones cruzadas\n",
        "\n",
        "* Realizar análisis cuantiles y otros análisis de grupos estadísticos."
      ]
    },
    {
      "cell_type": "markdown",
      "metadata": {
        "id": "F1ju7vADwWy1",
        "colab_type": "text"
      },
      "source": [
        "## Mecánica del GroupBy\n",
        "\n",
        "Existe un término conocido entre los analistas que describe operaciones de grupo,*split-apply-combine* \n",
        "En la primera parte de este proceso dividimos (split) dataframes o series en grupos basados en una o más keys. Una vez realizado la división, realizamos la función *apply* a cada grupo, produciendo un nuevo valor. \n",
        "Finalmente, tomamos el resultado de esas operaciones y las combinamos en un objeto.\n",
        "\n",
        "![alt text](https://raw.githubusercontent.com/al34n1x/DataScience/master/img/split-apply-combine.png)\n",
        "\n",
        "*source: Python for Data Analysis, 2nd Edition*\n",
        "\n"
      ]
    },
    {
      "cell_type": "code",
      "metadata": {
        "id": "NbOGS3vovXEr",
        "colab_type": "code",
        "colab": {
          "base_uri": "https://localhost:8080/",
          "height": 206
        },
        "outputId": "cc0d3d9b-d4fe-426a-ceed-621484ceedc6"
      },
      "source": [
        "import pandas as pd\n",
        "import numpy as np\n",
        "df = pd.DataFrame({'key1' : ['a', 'a', 'b', 'b', 'a'],\n",
        "                   'key2' : ['one', 'two', 'one', 'two', 'one'],\n",
        "                   'data1' : np.random.randn(5),\n",
        "                   'data2' : np.random.randn(5)})\n",
        "df"
      ],
      "execution_count": 2,
      "outputs": [
        {
          "output_type": "execute_result",
          "data": {
            "text/html": [
              "<div>\n",
              "<style scoped>\n",
              "    .dataframe tbody tr th:only-of-type {\n",
              "        vertical-align: middle;\n",
              "    }\n",
              "\n",
              "    .dataframe tbody tr th {\n",
              "        vertical-align: top;\n",
              "    }\n",
              "\n",
              "    .dataframe thead th {\n",
              "        text-align: right;\n",
              "    }\n",
              "</style>\n",
              "<table border=\"1\" class=\"dataframe\">\n",
              "  <thead>\n",
              "    <tr style=\"text-align: right;\">\n",
              "      <th></th>\n",
              "      <th>key1</th>\n",
              "      <th>key2</th>\n",
              "      <th>data1</th>\n",
              "      <th>data2</th>\n",
              "    </tr>\n",
              "  </thead>\n",
              "  <tbody>\n",
              "    <tr>\n",
              "      <th>0</th>\n",
              "      <td>a</td>\n",
              "      <td>one</td>\n",
              "      <td>-0.036122</td>\n",
              "      <td>0.028197</td>\n",
              "    </tr>\n",
              "    <tr>\n",
              "      <th>1</th>\n",
              "      <td>a</td>\n",
              "      <td>two</td>\n",
              "      <td>-0.182504</td>\n",
              "      <td>0.580248</td>\n",
              "    </tr>\n",
              "    <tr>\n",
              "      <th>2</th>\n",
              "      <td>b</td>\n",
              "      <td>one</td>\n",
              "      <td>-0.136171</td>\n",
              "      <td>-1.355133</td>\n",
              "    </tr>\n",
              "    <tr>\n",
              "      <th>3</th>\n",
              "      <td>b</td>\n",
              "      <td>two</td>\n",
              "      <td>-0.977995</td>\n",
              "      <td>0.209023</td>\n",
              "    </tr>\n",
              "    <tr>\n",
              "      <th>4</th>\n",
              "      <td>a</td>\n",
              "      <td>one</td>\n",
              "      <td>-1.357029</td>\n",
              "      <td>-1.010761</td>\n",
              "    </tr>\n",
              "  </tbody>\n",
              "</table>\n",
              "</div>"
            ],
            "text/plain": [
              "  key1 key2     data1     data2\n",
              "0    a  one -0.036122  0.028197\n",
              "1    a  two -0.182504  0.580248\n",
              "2    b  one -0.136171 -1.355133\n",
              "3    b  two -0.977995  0.209023\n",
              "4    a  one -1.357029 -1.010761"
            ]
          },
          "metadata": {
            "tags": []
          },
          "execution_count": 2
        }
      ]
    },
    {
      "cell_type": "markdown",
      "metadata": {
        "id": "BxNpTDnDzAOt",
        "colab_type": "text"
      },
      "source": [
        "Supongamos que deseas calcular la media *(mean())* de la columna data1 usando las etiquetas de key1"
      ]
    },
    {
      "cell_type": "code",
      "metadata": {
        "id": "Ip7mww3yyqBE",
        "colab_type": "code",
        "outputId": "6d075ea7-1a7b-43d3-ffb6-99789cca49ab",
        "colab": {
          "base_uri": "https://localhost:8080/",
          "height": 34
        }
      },
      "source": [
        "grouped = df['data1'].groupby(df['key1'])\n",
        "grouped"
      ],
      "execution_count": 0,
      "outputs": [
        {
          "output_type": "execute_result",
          "data": {
            "text/plain": [
              "<pandas.core.groupby.generic.SeriesGroupBy object at 0x7fa610c04c18>"
            ]
          },
          "metadata": {
            "tags": []
          },
          "execution_count": 7
        }
      ]
    },
    {
      "cell_type": "code",
      "metadata": {
        "id": "uTPAa6D8yrYF",
        "colab_type": "code",
        "colab": {}
      },
      "source": [
        "grouped.mean()"
      ],
      "execution_count": 0,
      "outputs": []
    },
    {
      "cell_type": "markdown",
      "metadata": {
        "id": "r5CsULB8zhw7",
        "colab_type": "text"
      },
      "source": [
        "Aquí agrupamos los datos usando dos claves, y la Serie resultante ahora tiene un índice jerárquico."
      ]
    },
    {
      "cell_type": "code",
      "metadata": {
        "id": "B9IChMQuzjNw",
        "colab_type": "code",
        "outputId": "5b1a03ef-a2b2-498d-8091-0c8e4de938d2",
        "colab": {
          "base_uri": "https://localhost:8080/",
          "height": 121
        }
      },
      "source": [
        "media = df['data1'].groupby([df['key1'], df['key2']]).mean()\n",
        "media"
      ],
      "execution_count": 0,
      "outputs": [
        {
          "output_type": "execute_result",
          "data": {
            "text/plain": [
              "key1  key2\n",
              "a     one    -0.319943\n",
              "      two     0.546181\n",
              "b     one    -2.620541\n",
              "      two     0.987506\n",
              "Name: data1, dtype: float64"
            ]
          },
          "metadata": {
            "tags": []
          },
          "execution_count": 9
        }
      ]
    },
    {
      "cell_type": "code",
      "metadata": {
        "id": "0Q09b12lzugW",
        "colab_type": "code",
        "colab": {}
      },
      "source": [
        "media.unstack()"
      ],
      "execution_count": 0,
      "outputs": []
    },
    {
      "cell_type": "markdown",
      "metadata": {
        "id": "VvowjZ25z3RS",
        "colab_type": "text"
      },
      "source": [
        "En el siguiente ejemplo todo el grupo de keys son series, de esta manera podría haber cualquier arreglo de la longitud correcta "
      ]
    },
    {
      "cell_type": "code",
      "metadata": {
        "id": "BPb4TiJa0N1L",
        "colab_type": "code",
        "colab": {}
      },
      "source": [
        "prov = np.array(['Buenos Aires', 'Buenos Aires', 'Córdoba', 'Córdoba', 'Tucumán'])\n",
        "anios = np.array([2005, 2005, 2006, 2005, 2006])"
      ],
      "execution_count": 0,
      "outputs": []
    },
    {
      "cell_type": "code",
      "metadata": {
        "id": "W-AeL8DO0SUE",
        "colab_type": "code",
        "colab": {}
      },
      "source": [
        "df['data1'].groupby([prov, anios]).mean()"
      ],
      "execution_count": 0,
      "outputs": []
    },
    {
      "cell_type": "markdown",
      "metadata": {
        "id": "_SAtsTx-1xjS",
        "colab_type": "text"
      },
      "source": [
        "## Seleccionando una columna o subset de columnas\n",
        "\n",
        "La indexación de un objeto **GroupBy** creado a partir de un DataFrame con un nombre de columna o matriz de nombres de columna, genera un subconjunto de columnas para la agregación."
      ]
    },
    {
      "cell_type": "code",
      "metadata": {
        "id": "Ock1N3TL2BWx",
        "colab_type": "code",
        "colab": {}
      },
      "source": [
        "df.groupby('key1')['data1'] # Equivalente a df['data1'].groupby(df['key1'])\n",
        "df.groupby('key1')[['data2']] # Equivalente a df[['data2']].groupby(df['key1'])"
      ],
      "execution_count": 0,
      "outputs": []
    },
    {
      "cell_type": "markdown",
      "metadata": {
        "id": "dHeua-rw2ghN",
        "colab_type": "text"
      },
      "source": [
        "Especialmente para grandes conjuntos de datos, puede ser conveniente agregar solo unas pocas columnas. Por ejemplo, en el conjunto de datos anterior, para calcular medios solo para la columna data2 y obtener el resultado como un DataFrame, podríamos escribir:"
      ]
    },
    {
      "cell_type": "code",
      "metadata": {
        "id": "Ei1BEtyD3OFc",
        "colab_type": "code",
        "colab": {}
      },
      "source": [
        "df.groupby(['key1', 'key2'])[['data2']].mean()"
      ],
      "execution_count": 0,
      "outputs": []
    },
    {
      "cell_type": "markdown",
      "metadata": {
        "id": "A_Dgzoor3tU7",
        "colab_type": "text"
      },
      "source": [
        "El objeto devuelto por esta operación de indexación es un DataFrame agrupado si se pasa una lista o matriz o una Serie agrupada si solo se pasa un solo nombre de columna como escalar"
      ]
    },
    {
      "cell_type": "code",
      "metadata": {
        "id": "NWWVxT0p3y8v",
        "colab_type": "code",
        "outputId": "c4ce051f-a58f-4116-be1b-9ec33a4197fd",
        "colab": {
          "base_uri": "https://localhost:8080/",
          "height": 121
        }
      },
      "source": [
        "s_grouped = df.groupby(['key1', 'key2'])['data2']\n",
        "s_grouped.mean()"
      ],
      "execution_count": 0,
      "outputs": [
        {
          "output_type": "execute_result",
          "data": {
            "text/plain": [
              "key1  key2\n",
              "a     one     0.625985\n",
              "      two     1.098123\n",
              "b     one     1.264394\n",
              "      two    -0.223157\n",
              "Name: data2, dtype: float64"
            ]
          },
          "metadata": {
            "tags": []
          },
          "execution_count": 22
        }
      ]
    },
    {
      "cell_type": "markdown",
      "metadata": {
        "id": "SFpRZZb23nOj",
        "colab_type": "text"
      },
      "source": [
        "## Agrupando con dicts y series\n",
        "\n",
        "Puede que necesites agrupar información existente en algo diferente a un arreglo. Consideremos el siguiente Dataframe:\n"
      ]
    },
    {
      "cell_type": "code",
      "metadata": {
        "id": "DZpC2fry32bX",
        "colab_type": "code",
        "colab": {}
      },
      "source": [
        "people = pd.DataFrame(np.random.randn(5, 5),\n",
        "                      columns=['a', 'b', 'c', 'd', 'e'],\n",
        "                      index=['Joe', 'Steve', 'Wes', 'Jim', 'Travis'])"
      ],
      "execution_count": 0,
      "outputs": []
    },
    {
      "cell_type": "code",
      "metadata": {
        "id": "G7STkNov37MX",
        "colab_type": "code",
        "colab": {
          "base_uri": "https://localhost:8080/",
          "height": 206
        },
        "outputId": "7e065d34-9f99-40bc-e766-9d2f38d69933"
      },
      "source": [
        "people.iloc[2:3, [1, 2]] = np.nan # Agrega un par de NaN\n",
        "people"
      ],
      "execution_count": 5,
      "outputs": [
        {
          "output_type": "execute_result",
          "data": {
            "text/html": [
              "<div>\n",
              "<style scoped>\n",
              "    .dataframe tbody tr th:only-of-type {\n",
              "        vertical-align: middle;\n",
              "    }\n",
              "\n",
              "    .dataframe tbody tr th {\n",
              "        vertical-align: top;\n",
              "    }\n",
              "\n",
              "    .dataframe thead th {\n",
              "        text-align: right;\n",
              "    }\n",
              "</style>\n",
              "<table border=\"1\" class=\"dataframe\">\n",
              "  <thead>\n",
              "    <tr style=\"text-align: right;\">\n",
              "      <th></th>\n",
              "      <th>a</th>\n",
              "      <th>b</th>\n",
              "      <th>c</th>\n",
              "      <th>d</th>\n",
              "      <th>e</th>\n",
              "    </tr>\n",
              "  </thead>\n",
              "  <tbody>\n",
              "    <tr>\n",
              "      <th>Joe</th>\n",
              "      <td>-0.209775</td>\n",
              "      <td>0.113849</td>\n",
              "      <td>-0.746741</td>\n",
              "      <td>1.744495</td>\n",
              "      <td>0.582583</td>\n",
              "    </tr>\n",
              "    <tr>\n",
              "      <th>Steve</th>\n",
              "      <td>0.218053</td>\n",
              "      <td>-1.634779</td>\n",
              "      <td>0.537866</td>\n",
              "      <td>1.551900</td>\n",
              "      <td>-1.397482</td>\n",
              "    </tr>\n",
              "    <tr>\n",
              "      <th>Wes</th>\n",
              "      <td>-0.017142</td>\n",
              "      <td>NaN</td>\n",
              "      <td>NaN</td>\n",
              "      <td>0.594722</td>\n",
              "      <td>2.115985</td>\n",
              "    </tr>\n",
              "    <tr>\n",
              "      <th>Jim</th>\n",
              "      <td>0.153630</td>\n",
              "      <td>1.121073</td>\n",
              "      <td>0.913158</td>\n",
              "      <td>-1.988261</td>\n",
              "      <td>0.487276</td>\n",
              "    </tr>\n",
              "    <tr>\n",
              "      <th>Travis</th>\n",
              "      <td>0.417668</td>\n",
              "      <td>1.383748</td>\n",
              "      <td>-0.325849</td>\n",
              "      <td>0.871233</td>\n",
              "      <td>0.540269</td>\n",
              "    </tr>\n",
              "  </tbody>\n",
              "</table>\n",
              "</div>"
            ],
            "text/plain": [
              "               a         b         c         d         e\n",
              "Joe    -0.209775  0.113849 -0.746741  1.744495  0.582583\n",
              "Steve   0.218053 -1.634779  0.537866  1.551900 -1.397482\n",
              "Wes    -0.017142       NaN       NaN  0.594722  2.115985\n",
              "Jim     0.153630  1.121073  0.913158 -1.988261  0.487276\n",
              "Travis  0.417668  1.383748 -0.325849  0.871233  0.540269"
            ]
          },
          "metadata": {
            "tags": []
          },
          "execution_count": 5
        }
      ]
    },
    {
      "cell_type": "markdown",
      "metadata": {
        "id": "wGWo6SRE4GbV",
        "colab_type": "text"
      },
      "source": [
        "Supongamos que tenemos una lista de columnas que corresponden a ese dataframe y queremos realizar una operacion **sum** entre las columnas por grupo"
      ]
    },
    {
      "cell_type": "code",
      "metadata": {
        "id": "Bjnm__b-4Rl6",
        "colab_type": "code",
        "colab": {}
      },
      "source": [
        "mapping = {'a': 'red', 'b': 'red', 'c': 'blue',\n",
        "           'd': 'blue', 'e': 'red', 'f' : 'orange'}"
      ],
      "execution_count": 0,
      "outputs": []
    },
    {
      "cell_type": "markdown",
      "metadata": {
        "id": "IFGdcnqY4lzh",
        "colab_type": "text"
      },
      "source": [
        "Ahora podemos construir un arreglo a partir del dict y se lo pasamos a la operación **groupby**, pero en cambio le pasamos directamente el dict como key.\n"
      ]
    },
    {
      "cell_type": "code",
      "metadata": {
        "id": "RjeylfWs4Uoe",
        "colab_type": "code",
        "colab": {}
      },
      "source": [
        "by_column=people.groupby(mapping, axis=1)"
      ],
      "execution_count": 0,
      "outputs": []
    },
    {
      "cell_type": "code",
      "metadata": {
        "id": "7KGukJ2R4aTe",
        "colab_type": "code",
        "colab": {}
      },
      "source": [
        "by_column.sum()"
      ],
      "execution_count": 0,
      "outputs": []
    },
    {
      "cell_type": "markdown",
      "metadata": {
        "id": "hNvhRjQg5IhT",
        "colab_type": "text"
      },
      "source": [
        "## Agrupación con funciones\n",
        "El uso de las funciones de Python es una forma más genérica de definir un mapeo de grupo en comparación con un dict o Series. Cualquier función que se pase como clave de grupo se llamará una vez por valor de índice, y los valores de retorno se utilizarán como nombres de grupo. Más concretamente, consideremos el DataFrame de ejemplo de la sección anterior, que tiene los nombres de las personas como valores de índice. Supongamos que deseas agrupar por la longitud de los nombres; Si bien podrías calcular una matriz de longitudes de cadena, es más simple simplemente pasar la función len:"
      ]
    },
    {
      "cell_type": "code",
      "metadata": {
        "id": "27Aaa4WO5VPM",
        "colab_type": "code",
        "colab": {
          "base_uri": "https://localhost:8080/",
          "height": 143
        },
        "outputId": "5dd0efdc-2c6e-4c48-8b13-c52f4d12554c"
      },
      "source": [
        "people.groupby(len).sum()"
      ],
      "execution_count": 9,
      "outputs": [
        {
          "output_type": "execute_result",
          "data": {
            "text/html": [
              "<div>\n",
              "<style scoped>\n",
              "    .dataframe tbody tr th:only-of-type {\n",
              "        vertical-align: middle;\n",
              "    }\n",
              "\n",
              "    .dataframe tbody tr th {\n",
              "        vertical-align: top;\n",
              "    }\n",
              "\n",
              "    .dataframe thead th {\n",
              "        text-align: right;\n",
              "    }\n",
              "</style>\n",
              "<table border=\"1\" class=\"dataframe\">\n",
              "  <thead>\n",
              "    <tr style=\"text-align: right;\">\n",
              "      <th></th>\n",
              "      <th>a</th>\n",
              "      <th>b</th>\n",
              "      <th>c</th>\n",
              "      <th>d</th>\n",
              "      <th>e</th>\n",
              "    </tr>\n",
              "  </thead>\n",
              "  <tbody>\n",
              "    <tr>\n",
              "      <th>3</th>\n",
              "      <td>-0.073288</td>\n",
              "      <td>1.234922</td>\n",
              "      <td>0.166416</td>\n",
              "      <td>0.350955</td>\n",
              "      <td>3.185844</td>\n",
              "    </tr>\n",
              "    <tr>\n",
              "      <th>5</th>\n",
              "      <td>0.218053</td>\n",
              "      <td>-1.634779</td>\n",
              "      <td>0.537866</td>\n",
              "      <td>1.551900</td>\n",
              "      <td>-1.397482</td>\n",
              "    </tr>\n",
              "    <tr>\n",
              "      <th>6</th>\n",
              "      <td>0.417668</td>\n",
              "      <td>1.383748</td>\n",
              "      <td>-0.325849</td>\n",
              "      <td>0.871233</td>\n",
              "      <td>0.540269</td>\n",
              "    </tr>\n",
              "  </tbody>\n",
              "</table>\n",
              "</div>"
            ],
            "text/plain": [
              "          a         b         c         d         e\n",
              "3 -0.073288  1.234922  0.166416  0.350955  3.185844\n",
              "5  0.218053 -1.634779  0.537866  1.551900 -1.397482\n",
              "6  0.417668  1.383748 -0.325849  0.871233  0.540269"
            ]
          },
          "metadata": {
            "tags": []
          },
          "execution_count": 9
        }
      ]
    },
    {
      "cell_type": "markdown",
      "metadata": {
        "id": "tCCi7PrE5ecH",
        "colab_type": "text"
      },
      "source": [
        ""
      ]
    }
  ]
}