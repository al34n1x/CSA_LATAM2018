{
  "nbformat": 4,
  "nbformat_minor": 0,
  "metadata": {
    "colab": {
      "name": "Spark.ipynb",
      "provenance": [],
      "authorship_tag": "ABX9TyNlLfWP5uedLousJJUKdWJf",
      "include_colab_link": true
    },
    "kernelspec": {
      "name": "python3",
      "display_name": "Python 3"
    },
    "language_info": {
      "name": "python"
    }
  },
  "cells": [
    {
      "cell_type": "markdown",
      "metadata": {
        "id": "view-in-github",
        "colab_type": "text"
      },
      "source": [
        "<a href=\"https://colab.research.google.com/github/al34n1x/CSA_LATAM2018/blob/master/9.BigData/Spark.ipynb\" target=\"_parent\"><img src=\"https://colab.research.google.com/assets/colab-badge.svg\" alt=\"Open In Colab\"/></a>"
      ]
    },
    {
      "cell_type": "markdown",
      "metadata": {
        "colab_type": "toc",
        "id": "HYuz1sZL9PiI"
      },
      "source": [
        ">[Spark](#updateTitle=true&folderId=1hYY6URNFLa2w5I3uQbpDlwOox_am-5cM&scrollTo=v46kRpi27oRc)\n",
        "\n",
        ">>[Instalación en Colab](#updateTitle=true&folderId=1hYY6URNFLa2w5I3uQbpDlwOox_am-5cM&scrollTo=JIGw62oM7ypl)\n",
        "\n",
        ">>[Variables de entorno](#updateTitle=true&folderId=1hYY6URNFLa2w5I3uQbpDlwOox_am-5cM&scrollTo=Pld58Eng79T6)\n",
        "\n",
        ">>[Iniciar sesión de Spark](#updateTitle=true&folderId=1hYY6URNFLa2w5I3uQbpDlwOox_am-5cM&scrollTo=u6IA7l5A8Y5v)\n",
        "\n",
        ">>[Carga de archivos](#updateTitle=true&folderId=1hYY6URNFLa2w5I3uQbpDlwOox_am-5cM&scrollTo=IyyTuVe38h1W)\n",
        "\n",
        ">>[Almacenar archivo en formato Parquet](#updateTitle=true&folderId=1hYY6URNFLa2w5I3uQbpDlwOox_am-5cM&scrollTo=2nLwFkPD8w30)\n",
        "\n",
        ">>[Spark SQL](#updateTitle=true&folderId=1hYY6URNFLa2w5I3uQbpDlwOox_am-5cM&scrollTo=PSRPJafR8_85)\n",
        "\n"
      ]
    },
    {
      "cell_type": "markdown",
      "metadata": {
        "id": "v46kRpi27oRc"
      },
      "source": [
        "# Spark\n",
        "\n",
        "\n",
        "![meteoro6.jpg](data:image/jpeg;base64,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)\n",
        "\n",
        "\n",
        "\n",
        "\n",
        "Apache Spark es un motor unificado diseñado para el procesamiento de datos distribuidos a gran escala, en centros de datos o en la nube.\n",
        "La filosofía de diseño de Spark se centra en cuatro características clave:\n",
        "* Velocidad\n",
        "* Facilidad de uso\n",
        "* Modularidad\n",
        "* Extensibilidad\n"
      ]
    },
    {
      "cell_type": "markdown",
      "metadata": {
        "id": "JIGw62oM7ypl"
      },
      "source": [
        "## Instalación en Colab\n",
        "\n",
        "Primero instalamos los paquetes necesarios\n",
        "\n",
        "* OpenJDK\n",
        "* Spark con Hadoop\n",
        "* findspark"
      ]
    },
    {
      "cell_type": "code",
      "metadata": {
        "id": "ODRcAiIpodZU"
      },
      "source": [
        "!apt-get install openjdk-8-jdk-headless -qq > /dev/null\n",
        "!wget -q https://downloads.apache.org/spark/spark-2.4.8/spark-2.4.8-bin-hadoop2.7.tgz\n",
        "!tar xf spark-2.4.8-bin-hadoop2.7.tgz\n",
        "!pip install -q findspark"
      ],
      "execution_count": 1,
      "outputs": []
    },
    {
      "cell_type": "markdown",
      "metadata": {
        "id": "Pld58Eng79T6"
      },
      "source": [
        "## Variables de entorno\n",
        "\n",
        "Al ser un sandbox, debemos de configurar variables de entorno que serán utilizadas por Spark.\n",
        "A continuación detallamos las dos variables de entornos requeridas, una para **JAVA** y otra para **SPARK**.\n"
      ]
    },
    {
      "cell_type": "code",
      "metadata": {
        "id": "OUIL2IZeoe1M"
      },
      "source": [
        "import os\n",
        "os.environ[\"JAVA_HOME\"] = \"/usr/lib/jvm/java-8-openjdk-amd64\"\n",
        "os.environ[\"SPARK_HOME\"] = \"/content/spark-2.4.8-bin-hadoop2.7\""
      ],
      "execution_count": 2,
      "outputs": []
    },
    {
      "cell_type": "markdown",
      "metadata": {
        "id": "u6IA7l5A8Y5v"
      },
      "source": [
        "## Iniciar sesión de Spark\n",
        "\n",
        "Una vez instalado los paquetes y configurado las variabls de entorno, podemos pasar a iniciar con el uso de Spark.\n",
        "Las siguientes lineas nos permitirán iniciar la sesión de spark."
      ]
    },
    {
      "cell_type": "code",
      "metadata": {
        "id": "-YTeGJZkogUl"
      },
      "source": [
        "import findspark\n",
        "findspark.init()\n",
        "from pyspark.sql import SparkSession\n",
        "spark = SparkSession.builder.master(\"local[*]\").getOrCreate()"
      ],
      "execution_count": 3,
      "outputs": []
    },
    {
      "cell_type": "markdown",
      "metadata": {
        "id": "IyyTuVe38h1W"
      },
      "source": [
        "## Carga de archivos\n",
        "\n",
        "Como lo hemos comentado, Spark se nutre de diferentes fuentes de datos, en nuestro caso, para el alcance del ejemplo, tomaremos uno de los archivos **CSV** dispuestos en COLAB para luego poder ser almacenado en Hadoop."
      ]
    },
    {
      "cell_type": "code",
      "metadata": {
        "id": "fKQ2fS8f5cmV"
      },
      "source": [
        "archivo = './sample_data/california_housing_train.csv'\n",
        "df_spark = spark.read.csv(archivo, inferSchema=True, header=True)\n",
        "print(type(df_spark))"
      ],
      "execution_count": null,
      "outputs": []
    },
    {
      "cell_type": "code",
      "metadata": {
        "id": "uXTF4YYY5jII"
      },
      "source": [
        "df_spark.count()"
      ],
      "execution_count": null,
      "outputs": []
    },
    {
      "cell_type": "code",
      "metadata": {
        "id": "2X_LSNAY5mgH"
      },
      "source": [
        "df_spark.printSchema()"
      ],
      "execution_count": null,
      "outputs": []
    },
    {
      "cell_type": "code",
      "metadata": {
        "id": "FYlnca4u5pkc"
      },
      "source": [
        "df_spark.columns"
      ],
      "execution_count": null,
      "outputs": []
    },
    {
      "cell_type": "code",
      "metadata": {
        "id": "jdcTz5ak5sK1"
      },
      "source": [
        "df_spark.show()"
      ],
      "execution_count": null,
      "outputs": []
    },
    {
      "cell_type": "code",
      "metadata": {
        "id": "jaAfi8NF5xpO"
      },
      "source": [
        "df_spark.describe().toPandas().transpose()"
      ],
      "execution_count": null,
      "outputs": []
    },
    {
      "cell_type": "markdown",
      "metadata": {
        "id": "2nLwFkPD8w30"
      },
      "source": [
        "## Almacenar archivo en formato Parquet\n",
        "\n",
        "En esta etapa cambiamos el DF a formato Parquet para poder crear vistas temporales que nos servirán para poder realizar consultas con **Spark SQL**"
      ]
    },
    {
      "cell_type": "code",
      "metadata": {
        "id": "hRl2rE9f6RbE"
      },
      "source": [
        "df_spark.write.parquet(\"california_housing_train.parquet\")"
      ],
      "execution_count": 14,
      "outputs": []
    },
    {
      "cell_type": "code",
      "metadata": {
        "id": "bcMvUO9j6bWP"
      },
      "source": [
        "parquetFile = spark.read.parquet(\"california_housing_train.parquet\")"
      ],
      "execution_count": 16,
      "outputs": []
    },
    {
      "cell_type": "code",
      "metadata": {
        "id": "rnp1Hsz965GI"
      },
      "source": [
        "parquetFile.createOrReplaceTempView(\"parquetFile\")"
      ],
      "execution_count": 17,
      "outputs": []
    },
    {
      "cell_type": "markdown",
      "metadata": {
        "id": "PSRPJafR8_85"
      },
      "source": [
        "## Spark SQL\n",
        "\n",
        "A continuación desarrollamos la consulta SQL que deseamos realizar a la fuente de datos y Spark se encargará de traernos la información."
      ]
    },
    {
      "cell_type": "code",
      "metadata": {
        "id": "e3H390ec68uG"
      },
      "source": [
        "california = spark.sql(\"SELECT * FROM parquetFile where median_income < 1.4\")"
      ],
      "execution_count": 20,
      "outputs": []
    },
    {
      "cell_type": "code",
      "metadata": {
        "id": "_WikeSTs7G11"
      },
      "source": [
        "california.show()"
      ],
      "execution_count": null,
      "outputs": []
    }
  ]
}