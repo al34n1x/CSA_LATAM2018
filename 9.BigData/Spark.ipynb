{
  "nbformat": 4,
  "nbformat_minor": 0,
  "metadata": {
    "colab": {
      "name": "Spark.ipynb",
      "provenance": [],
      "authorship_tag": "ABX9TyMWYGUlhr9HeRyfta+q9a2s",
      "include_colab_link": true
    },
    "kernelspec": {
      "name": "python3",
      "display_name": "Python 3"
    },
    "language_info": {
      "name": "python"
    }
  },
  "cells": [
    {
      "cell_type": "markdown",
      "metadata": {
        "id": "view-in-github",
        "colab_type": "text"
      },
      "source": [
        "<a href=\"https://colab.research.google.com/github/al34n1x/CSA_LATAM2018/blob/master/9.BigData/Spark.ipynb\" target=\"_parent\"><img src=\"https://colab.research.google.com/assets/colab-badge.svg\" alt=\"Open In Colab\"/></a>"
      ]
    },
    {
      "cell_type": "code",
      "metadata": {
        "id": "ODRcAiIpodZU"
      },
      "source": [
        "!apt-get install openjdk-8-jdk-headless -qq > /dev/null\n",
        "!wget -q https://downloads.apache.org/spark/spark-2.4.8/spark-2.4.8-bin-hadoop2.7.tgz\n",
        "!tar xf spark-2.4.8-bin-hadoop2.7.tgz\n",
        "!pip install -q findspark"
      ],
      "execution_count": 1,
      "outputs": []
    },
    {
      "cell_type": "code",
      "metadata": {
        "id": "OUIL2IZeoe1M"
      },
      "source": [
        "import os\n",
        "os.environ[\"JAVA_HOME\"] = \"/usr/lib/jvm/java-8-openjdk-amd64\"\n",
        "os.environ[\"SPARK_HOME\"] = \"/content/spark-2.4.8-bin-hadoop2.7\""
      ],
      "execution_count": 2,
      "outputs": []
    },
    {
      "cell_type": "code",
      "metadata": {
        "id": "-YTeGJZkogUl"
      },
      "source": [
        "import findspark\n",
        "findspark.init()\n",
        "from pyspark.sql import SparkSession\n",
        "spark = SparkSession.builder.master(\"local[*]\").getOrCreate()"
      ],
      "execution_count": 3,
      "outputs": []
    },
    {
      "cell_type": "code",
      "metadata": {
        "id": "fKQ2fS8f5cmV"
      },
      "source": [
        "archivo = './sample_data/california_housing_train.csv'\n",
        "df_spark = spark.read.csv(archivo, inferSchema=True, header=True)\n",
        "print(type(df_spark))"
      ],
      "execution_count": null,
      "outputs": []
    },
    {
      "cell_type": "code",
      "metadata": {
        "id": "uXTF4YYY5jII"
      },
      "source": [
        "df_spark.count()"
      ],
      "execution_count": null,
      "outputs": []
    },
    {
      "cell_type": "code",
      "metadata": {
        "id": "2X_LSNAY5mgH"
      },
      "source": [
        "df_spark.printSchema()"
      ],
      "execution_count": null,
      "outputs": []
    },
    {
      "cell_type": "code",
      "metadata": {
        "id": "FYlnca4u5pkc"
      },
      "source": [
        "df_spark.columns"
      ],
      "execution_count": null,
      "outputs": []
    },
    {
      "cell_type": "code",
      "metadata": {
        "id": "jdcTz5ak5sK1"
      },
      "source": [
        "df_spark.show()"
      ],
      "execution_count": null,
      "outputs": []
    },
    {
      "cell_type": "code",
      "metadata": {
        "id": "jaAfi8NF5xpO"
      },
      "source": [
        "df_spark.describe().toPandas().transpose()"
      ],
      "execution_count": null,
      "outputs": []
    },
    {
      "cell_type": "code",
      "metadata": {
        "id": "hRl2rE9f6RbE"
      },
      "source": [
        "df_spark.write.parquet(\"california_housing_train.parquet\")"
      ],
      "execution_count": 14,
      "outputs": []
    },
    {
      "cell_type": "code",
      "metadata": {
        "id": "bcMvUO9j6bWP"
      },
      "source": [
        "parquetFile = spark.read.parquet(\"california_housing_train.parquet\")"
      ],
      "execution_count": 16,
      "outputs": []
    },
    {
      "cell_type": "code",
      "metadata": {
        "id": "rnp1Hsz965GI"
      },
      "source": [
        "parquetFile.createOrReplaceTempView(\"parquetFile\")"
      ],
      "execution_count": 17,
      "outputs": []
    },
    {
      "cell_type": "code",
      "metadata": {
        "id": "e3H390ec68uG"
      },
      "source": [
        "california = spark.sql(\"SELECT * FROM parquetFile where median_income < 1.4\")"
      ],
      "execution_count": 20,
      "outputs": []
    },
    {
      "cell_type": "code",
      "metadata": {
        "colab": {
          "base_uri": "https://localhost:8080/"
        },
        "id": "_WikeSTs7G11",
        "outputId": "89651f53-8128-4055-96e1-153026c301d1"
      },
      "source": [
        "california.show()"
      ],
      "execution_count": 21,
      "outputs": [
        {
          "output_type": "stream",
          "name": "stdout",
          "text": [
            "+---------+--------+------------------+-----------+--------------+----------+----------+-------------+------------------+\n",
            "|longitude|latitude|housing_median_age|total_rooms|total_bedrooms|population|households|median_income|median_house_value|\n",
            "+---------+--------+------------------+-----------+--------------+----------+----------+-------------+------------------+\n",
            "|  -114.63|   32.76|              15.0|     1448.0|         378.0|     949.0|     300.0|       0.8585|           45000.0|\n",
            "|  -114.65|   32.79|              21.0|       44.0|          33.0|      64.0|      27.0|       0.8571|           25000.0|\n",
            "|  -114.66|   32.74|              17.0|     1388.0|         386.0|     775.0|     320.0|       1.2049|           44000.0|\n",
            "|  -114.67|   33.92|              17.0|       97.0|          24.0|      29.0|      15.0|       1.2656|           27500.0|\n",
            "|  -114.73|   33.43|              24.0|      796.0|         243.0|     227.0|     139.0|       0.8964|           59200.0|\n",
            "|  -115.46|   33.19|              33.0|     1234.0|         373.0|     777.0|     298.0|          1.0|           40000.0|\n",
            "|  -115.49|   32.67|              29.0|     1523.0|         440.0|    1302.0|     393.0|       1.1311|           84700.0|\n",
            "|  -115.49|   32.67|              25.0|     2322.0|         573.0|    2185.0|     602.0|        1.375|           70100.0|\n",
            "|  -115.52|   34.22|              30.0|      540.0|         136.0|     122.0|      63.0|       1.3333|           42500.0|\n",
            "|  -115.54|   32.79|              23.0|     1712.0|         403.0|    1370.0|     377.0|        1.275|           60400.0|\n",
            "|  -115.55|   32.79|              22.0|      565.0|         162.0|     692.0|     141.0|       1.2083|           53600.0|\n",
            "|  -115.56|    32.8|              15.0|     1171.0|         328.0|    1024.0|     298.0|       1.3882|           69400.0|\n",
            "|  -115.56|   32.79|              20.0|     2372.0|         835.0|    2283.0|     767.0|       1.1707|           62500.0|\n",
            "|  -115.56|   32.79|              18.0|     1178.0|         438.0|    1377.0|     429.0|       1.3373|           58300.0|\n",
            "|  -115.73|   33.35|              23.0|     1586.0|         448.0|     338.0|     182.0|       1.2132|           30000.0|\n",
            "|  -115.85|    34.2|              34.0|     3868.0|        1257.0|     890.0|     423.0|       1.3571|           41000.0|\n",
            "|  -115.91|   33.36|              15.0|      459.0|          95.0|     160.0|      73.0|        0.922|           67500.0|\n",
            "|  -115.96|    33.3|              27.0|      322.0|          81.0|     112.0|      57.0|        1.125|           54400.0|\n",
            "|   -116.0|   33.19|              16.0|      245.0|          57.0|      81.0|      33.0|       1.2639|           51300.0|\n",
            "|  -116.06|    34.2|              29.0|     1202.0|         290.0|     383.0|     156.0|       1.3371|           66900.0|\n",
            "+---------+--------+------------------+-----------+--------------+----------+----------+-------------+------------------+\n",
            "only showing top 20 rows\n",
            "\n"
          ]
        }
      ]
    }
  ]
}